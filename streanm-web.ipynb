{
 "cells": [
  {
   "cell_type": "code",
   "execution_count": 1,
   "id": "98e7640b",
   "metadata": {
    "vscode": {
     "languageId": "plaintext"
    }
   },
   "outputs": [
    {
     "data": {
      "application/vnd.jupyter.widget-view+json": {
       "model_id": "7417f8f1d92c4b698ea852149b4f0010",
       "version_major": 2,
       "version_minor": 0
      },
      "text/plain": [
       "Output(layout=Layout(border_bottom='1px solid #ccc', border_left='1px solid #ccc', border_right='1px solid #cc…"
      ]
     },
     "metadata": {},
     "output_type": "display_data"
    }
   ],
   "source": [
    "import subprocess, threading\n",
    "from ipywidgets import Output\n",
    "from IPython.display import display\n",
    "from faster_whisper_live import LiveWhisper\n",
    "\n",
    "# —— 前端输出区 —— \n",
    "out = Output(layout={\"border\":\"1px solid #ccc\",\"height\":\"400px\",\"overflow\":\"auto\"})\n",
    "display(out)\n",
    "\n",
    "# —— 初始化模型 —— \n",
    "model = LiveWhisper(\"small\", device=\"cpu\", compute_type=\"int8\")\n",
    "\n",
    "# —— 启动 FFmpeg 采麦克风 —— \n",
    "ffmpeg_cmd = [\n",
    "    \"ffmpeg\",\n",
    "    \"-loglevel\", \"quiet\",\n",
    "    \"-f\", \"avfoundation\",\n",
    "    \"-i\", \":1\",       # ← 用你的音频设备号\n",
    "    \"-ac\", \"1\",\n",
    "    \"-ar\", \"16000\",\n",
    "    \"-f\", \"s16le\",\n",
    "    \"-\"\n",
    "]\n",
    "proc = subprocess.Popen(ffmpeg_cmd, stdout=subprocess.PIPE)\n",
    "\n",
    "# —— 后台线程：一边喂流，一边打印 —— \n",
    "def run_live():\n",
    "    with out:\n",
    "        for seg in model.transcribe(proc.stdout,\n",
    "                                    decode_audio=False,\n",
    "                                    vad_filter=True):\n",
    "            print(f\"[{seg.start:.2f}s → {seg.end:.2f}s] {seg.text}\")\n",
    "\n",
    "threading.Thread(target=run_live, daemon=True).start()"
   ]
  },
  {
   "cell_type": "code",
   "execution_count": null,
   "id": "a17c11f5-338b-423f-8831-4aef962f2b69",
   "metadata": {},
   "outputs": [],
   "source": []
  }
 ],
 "metadata": {
  "kernelspec": {
   "display_name": "Python 3 (ipykernel)",
   "language": "python",
   "name": "python3"
  },
  "language_info": {
   "codemirror_mode": {
    "name": "ipython",
    "version": 3
   },
   "file_extension": ".py",
   "mimetype": "text/x-python",
   "name": "python",
   "nbconvert_exporter": "python",
   "pygments_lexer": "ipython3",
   "version": "3.11.11"
  }
 },
 "nbformat": 4,
 "nbformat_minor": 5
}
