{
 "cells": [
  {
   "cell_type": "code",
   "execution_count": 1,
   "id": "63b38858",
   "metadata": {
    "vscode": {
     "languageId": "plaintext"
    }
   },
   "outputs": [],
   "source": [
    "# Cell 1：安装依赖（只需运行一次）\n",
    "#!pip install ipywidgets faster-whisper-live"
   ]
  },
  {
   "cell_type": "code",
   "execution_count": 2,
   "id": "a17c11f5-338b-423f-8831-4aef962f2b69",
   "metadata": {},
   "outputs": [],
   "source": [
    "# Cell 2：导入模块、初始化模型和输出区\n",
    "import subprocess, threading\n",
    "from ipywidgets import Button, Output, HBox, VBox\n",
    "from IPython.display import display, clear_output\n",
    "from faster_whisper_live import LiveWhisper\n",
    "\n",
    "# —— 初始化模型（CPU + int8 加速） —— \n",
    "model = LiveWhisper(\"small\", device=\"cpu\", compute_type=\"int8\")\n",
    "\n",
    "# —— 输出区 —— \n",
    "out = Output(layout={\n",
    "    'border': '1px solid #ccc',\n",
    "    'height': '300px',\n",
    "    'overflow': 'auto'\n",
    "})"
   ]
  },
  {
   "cell_type": "code",
   "execution_count": 1,
   "id": "f12066c8-c7b9-4f34-845e-84da02dbabdf",
   "metadata": {},
   "outputs": [
    {
     "name": "stdout",
     "output_type": "stream",
     "text": [
      "ffmpeg version 7.1.1 Copyright (c) 2000-2025 the FFmpeg developers\n",
      "  built with Apple clang version 16.0.0 (clang-1600.0.26.6)\n",
      "  configuration: --prefix=/opt/homebrew/Cellar/ffmpeg/7.1.1_2 --enable-shared --enable-pthreads --enable-version3 --cc=clang --host-cflags= --host-ldflags='-Wl,-ld_classic' --enable-ffplay --enable-gnutls --enable-gpl --enable-libaom --enable-libaribb24 --enable-libbluray --enable-libdav1d --enable-libharfbuzz --enable-libjxl --enable-libmp3lame --enable-libopus --enable-librav1e --enable-librist --enable-librubberband --enable-libsnappy --enable-libsrt --enable-libssh --enable-libsvtav1 --enable-libtesseract --enable-libtheora --enable-libvidstab --enable-libvmaf --enable-libvorbis --enable-libvpx --enable-libwebp --enable-libx264 --enable-libx265 --enable-libxml2 --enable-libxvid --enable-lzma --enable-libfontconfig --enable-libfreetype --enable-frei0r --enable-libass --enable-libopencore-amrnb --enable-libopencore-amrwb --enable-libopenjpeg --enable-libspeex --enable-libsoxr --enable-libzmq --enable-libzimg --disable-libjack --disable-indev=jack --enable-videotoolbox --enable-audiotoolbox --enable-neon\n",
      "  libavutil      59. 39.100 / 59. 39.100\n",
      "  libavcodec     61. 19.101 / 61. 19.101\n",
      "  libavformat    61.  7.100 / 61.  7.100\n",
      "  libavdevice    61.  3.100 / 61.  3.100\n",
      "  libavfilter    10.  4.100 / 10.  4.100\n",
      "  libswscale      8.  3.100 /  8.  3.100\n",
      "  libswresample   5.  3.100 /  5.  3.100\n",
      "  libpostproc    58.  3.100 / 58.  3.100\n",
      "2025-05-25 20:33:44.326 ffmpeg[62934:16003570] WARNING: Add NSCameraUseContinuityCameraDeviceType to your Info.plist to use AVCaptureDeviceTypeContinuityCamera.\n",
      "\u001b[0;35m[AVFoundation indev @ 0x1540049e0] \u001b[0mAVFoundation video devices:\n",
      "\u001b[0;35m[AVFoundation indev @ 0x1540049e0] \u001b[0m[0] FaceTime HD Camera\n",
      "\u001b[0;35m[AVFoundation indev @ 0x1540049e0] \u001b[0m[1] Capture screen 0\n",
      "\u001b[0;35m[AVFoundation indev @ 0x1540049e0] \u001b[0m[2] Capture screen 1\n",
      "\u001b[0;35m[AVFoundation indev @ 0x1540049e0] \u001b[0mAVFoundation audio devices:\n",
      "\u001b[0;35m[AVFoundation indev @ 0x1540049e0] \u001b[0m[0] WeMeet Audio Device\n",
      "\u001b[0;35m[AVFoundation indev @ 0x1540049e0] \u001b[0m[1] MacBook Pro Microphone\n",
      "\u001b[0;35m[AVFoundation indev @ 0x1540049e0] \u001b[0m[2] Microsoft Teams Audio\n",
      "\u001b[0;35m[AVFoundation indev @ 0x1540049e0] \u001b[0m[3] ZoomAudioDevice\n",
      "\u001b[0;35m[in#0 @ 0x154004300] \u001b[0m\u001b[1;31mError opening input: Input/output error\n",
      "\u001b[0m\u001b[1;31mError opening input file .\n",
      "\u001b[0m\u001b[4;31mError opening input files: Input/output error\n",
      "\u001b[0m"
     ]
    }
   ],
   "source": [
    "!ffmpeg -f avfoundation -list_devices true -i \"\""
   ]
  },
  {
   "cell_type": "code",
   "execution_count": 3,
   "id": "7a73cf3b",
   "metadata": {},
   "outputs": [
    {
     "data": {
      "application/vnd.jupyter.widget-view+json": {
       "model_id": "c6120bdfe9884bf0b5869e228d942410",
       "version_major": 2,
       "version_minor": 0
      },
      "text/plain": [
       "VBox(children=(HBox(children=(Button(button_style='success', description='▶ Start Transcription', style=Button…"
      ]
     },
     "metadata": {},
     "output_type": "display_data"
    }
   ],
   "source": [
    "# Cell 3：构建 UI、启动/停止逻辑\n",
    "start_btn = Button(description=\"▶ Start Transcription\", button_style=\"success\")\n",
    "stop_btn  = Button(description=\"■ Stop Transcription\", button_style=\"danger\", disabled=True)\n",
    "\n",
    "# 把按钮和输出区排列起来\n",
    "ui = VBox([\n",
    "    HBox([start_btn, stop_btn]),\n",
    "    out\n",
    "])\n",
    "display(ui)\n",
    "\n",
    "# 全局控制变量\n",
    "proc = None\n",
    "stop_event = threading.Event()\n",
    "\n",
    "def start_transcription(_):\n",
    "    global proc, stop_event\n",
    "    stop_event.clear()\n",
    "    start_btn.disabled = True\n",
    "    stop_btn.disabled  = False\n",
    "    out.clear_output()\n",
    "    # —— 启动 FFmpeg，从麦克风读取 PCM —— \n",
    "    # 注意把 \":1\" 改成你通过 `ffmpeg -f avfoundation -list_devices true -i \"\"` \n",
    "    # 查到的音频设备编号\n",
    "    ffmpeg_cmd = [\n",
    "        \"ffmpeg\",\n",
    "        \"-loglevel\", \"quiet\",\n",
    "        \"-f\", \"avfoundation\",\n",
    "        \"-i\", \":1\",\n",
    "        \"-ac\", \"1\",\n",
    "        \"-ar\", \"16000\",\n",
    "        \"-f\", \"s16le\",\n",
    "        \"-\"\n",
    "    ]\n",
    "    proc = subprocess.Popen(ffmpeg_cmd, stdout=subprocess.PIPE, stderr=subprocess.DEVNULL)\n",
    "    # —— 后台线程：一边喂流，一边打印 —— \n",
    "    def run():\n",
    "        with out:\n",
    "            for seg in model.transcribe(proc.stdout, decode_audio=False, vad_filter=True):\n",
    "                print(f\"[{seg.start:.2f}s → {seg.end:.2f}s] {seg.text}\")\n",
    "                if stop_event.is_set():\n",
    "                    break\n",
    "            print(\"✅ Transcription stopped.\")\n",
    "    threading.Thread(target=run, daemon=True).start()\n",
    "\n",
    "def stop_transcription(_):\n",
    "    global proc, stop_event\n",
    "    stop_event.set()\n",
    "    if proc:\n",
    "        proc.kill()\n",
    "    start_btn.disabled = False\n",
    "    stop_btn.disabled  = True\n",
    "\n",
    "start_btn.on_click(start_transcription)\n",
    "stop_btn.on_click(stop_transcription)"
   ]
  },
  {
   "cell_type": "code",
   "execution_count": null,
   "id": "81427f84-69fc-4d79-93db-3f8de187184f",
   "metadata": {},
   "outputs": [],
   "source": []
  }
 ],
 "metadata": {
  "kernelspec": {
   "display_name": "whisper-note",
   "language": "python",
   "name": "whisper-note"
  },
  "language_info": {
   "codemirror_mode": {
    "name": "ipython",
    "version": 3
   },
   "file_extension": ".py",
   "mimetype": "text/x-python",
   "name": "python",
   "nbconvert_exporter": "python",
   "pygments_lexer": "ipython3",
   "version": "3.11.11"
  }
 },
 "nbformat": 4,
 "nbformat_minor": 5
}
