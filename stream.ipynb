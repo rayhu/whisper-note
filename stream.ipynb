{
 "cells": [
  {
   "cell_type": "code",
   "execution_count": 1,
   "id": "29d18362-80ac-475f-a469-e70b62b9450f",
   "metadata": {},
   "outputs": [],
   "source": [
    "#!pip install git+https://github.com/pmdevita/faster-whisper-live.git"
   ]
  },
  {
   "cell_type": "code",
   "execution_count": 11,
   "id": "e1a3d595-bbe5-4b1b-8c10-212d3259daf2",
   "metadata": {},
   "outputs": [
    {
     "name": "stdout",
     "output_type": "stream",
     "text": [
      "Requirement already satisfied: ipywidgets in /Users/rayhu/miniconda3/envs/whisper-note/lib/python3.11/site-packages (8.1.7)\n",
      "Requirement already satisfied: ipywebrtc in /Users/rayhu/miniconda3/envs/whisper-note/lib/python3.11/site-packages (0.6.0)\n",
      "Requirement already satisfied: faster-whisper-live in /Users/rayhu/miniconda3/envs/whisper-note/lib/python3.11/site-packages (0.1.2)\n",
      "Requirement already satisfied: comm>=0.1.3 in /Users/rayhu/miniconda3/envs/whisper-note/lib/python3.11/site-packages (from ipywidgets) (0.2.2)\n",
      "Requirement already satisfied: ipython>=6.1.0 in /Users/rayhu/miniconda3/envs/whisper-note/lib/python3.11/site-packages (from ipywidgets) (9.2.0)\n",
      "Requirement already satisfied: traitlets>=4.3.1 in /Users/rayhu/miniconda3/envs/whisper-note/lib/python3.11/site-packages (from ipywidgets) (5.14.3)\n",
      "Requirement already satisfied: widgetsnbextension~=4.0.14 in /Users/rayhu/miniconda3/envs/whisper-note/lib/python3.11/site-packages (from ipywidgets) (4.0.14)\n",
      "Requirement already satisfied: jupyterlab_widgets~=3.0.15 in /Users/rayhu/miniconda3/envs/whisper-note/lib/python3.11/site-packages (from ipywidgets) (3.0.15)\n",
      "Requirement already satisfied: faster-whisper<0.6.0,>=0.5.1 in /Users/rayhu/miniconda3/envs/whisper-note/lib/python3.11/site-packages (from faster-whisper-live) (0.5.1)\n",
      "Requirement already satisfied: numpy<2.0.0,>=1.24.3 in /Users/rayhu/miniconda3/envs/whisper-note/lib/python3.11/site-packages (from faster-whisper-live) (1.26.4)\n",
      "Requirement already satisfied: av==10.* in /Users/rayhu/miniconda3/envs/whisper-note/lib/python3.11/site-packages (from faster-whisper<0.6.0,>=0.5.1->faster-whisper-live) (10.0.0)\n",
      "Requirement already satisfied: ctranslate2<4,>=3.10 in /Users/rayhu/miniconda3/envs/whisper-note/lib/python3.11/site-packages (from faster-whisper<0.6.0,>=0.5.1->faster-whisper-live) (3.24.0)\n",
      "Requirement already satisfied: huggingface-hub>=0.13 in /Users/rayhu/miniconda3/envs/whisper-note/lib/python3.11/site-packages (from faster-whisper<0.6.0,>=0.5.1->faster-whisper-live) (0.32.0)\n",
      "Requirement already satisfied: tokenizers==0.13.* in /Users/rayhu/miniconda3/envs/whisper-note/lib/python3.11/site-packages (from faster-whisper<0.6.0,>=0.5.1->faster-whisper-live) (0.13.3)\n",
      "Requirement already satisfied: setuptools in /Users/rayhu/miniconda3/envs/whisper-note/lib/python3.11/site-packages (from ctranslate2<4,>=3.10->faster-whisper<0.6.0,>=0.5.1->faster-whisper-live) (78.1.1)\n",
      "Requirement already satisfied: pyyaml<7,>=5.3 in /Users/rayhu/miniconda3/envs/whisper-note/lib/python3.11/site-packages (from ctranslate2<4,>=3.10->faster-whisper<0.6.0,>=0.5.1->faster-whisper-live) (6.0.2)\n",
      "Requirement already satisfied: filelock in /Users/rayhu/miniconda3/envs/whisper-note/lib/python3.11/site-packages (from huggingface-hub>=0.13->faster-whisper<0.6.0,>=0.5.1->faster-whisper-live) (3.18.0)\n",
      "Requirement already satisfied: fsspec>=2023.5.0 in /Users/rayhu/miniconda3/envs/whisper-note/lib/python3.11/site-packages (from huggingface-hub>=0.13->faster-whisper<0.6.0,>=0.5.1->faster-whisper-live) (2025.5.1)\n",
      "Requirement already satisfied: packaging>=20.9 in /Users/rayhu/miniconda3/envs/whisper-note/lib/python3.11/site-packages (from huggingface-hub>=0.13->faster-whisper<0.6.0,>=0.5.1->faster-whisper-live) (25.0)\n",
      "Requirement already satisfied: requests in /Users/rayhu/miniconda3/envs/whisper-note/lib/python3.11/site-packages (from huggingface-hub>=0.13->faster-whisper<0.6.0,>=0.5.1->faster-whisper-live) (2.32.3)\n",
      "Requirement already satisfied: tqdm>=4.42.1 in /Users/rayhu/miniconda3/envs/whisper-note/lib/python3.11/site-packages (from huggingface-hub>=0.13->faster-whisper<0.6.0,>=0.5.1->faster-whisper-live) (4.67.1)\n",
      "Requirement already satisfied: typing-extensions>=3.7.4.3 in /Users/rayhu/miniconda3/envs/whisper-note/lib/python3.11/site-packages (from huggingface-hub>=0.13->faster-whisper<0.6.0,>=0.5.1->faster-whisper-live) (4.13.2)\n",
      "Requirement already satisfied: hf-xet<2.0.0,>=1.1.2 in /Users/rayhu/miniconda3/envs/whisper-note/lib/python3.11/site-packages (from huggingface-hub>=0.13->faster-whisper<0.6.0,>=0.5.1->faster-whisper-live) (1.1.2)\n",
      "Requirement already satisfied: decorator in /Users/rayhu/miniconda3/envs/whisper-note/lib/python3.11/site-packages (from ipython>=6.1.0->ipywidgets) (5.2.1)\n",
      "Requirement already satisfied: ipython-pygments-lexers in /Users/rayhu/miniconda3/envs/whisper-note/lib/python3.11/site-packages (from ipython>=6.1.0->ipywidgets) (1.1.1)\n",
      "Requirement already satisfied: jedi>=0.16 in /Users/rayhu/miniconda3/envs/whisper-note/lib/python3.11/site-packages (from ipython>=6.1.0->ipywidgets) (0.19.2)\n",
      "Requirement already satisfied: matplotlib-inline in /Users/rayhu/miniconda3/envs/whisper-note/lib/python3.11/site-packages (from ipython>=6.1.0->ipywidgets) (0.1.7)\n",
      "Requirement already satisfied: pexpect>4.3 in /Users/rayhu/miniconda3/envs/whisper-note/lib/python3.11/site-packages (from ipython>=6.1.0->ipywidgets) (4.9.0)\n",
      "Requirement already satisfied: prompt_toolkit<3.1.0,>=3.0.41 in /Users/rayhu/miniconda3/envs/whisper-note/lib/python3.11/site-packages (from ipython>=6.1.0->ipywidgets) (3.0.51)\n",
      "Requirement already satisfied: pygments>=2.4.0 in /Users/rayhu/miniconda3/envs/whisper-note/lib/python3.11/site-packages (from ipython>=6.1.0->ipywidgets) (2.19.1)\n",
      "Requirement already satisfied: stack_data in /Users/rayhu/miniconda3/envs/whisper-note/lib/python3.11/site-packages (from ipython>=6.1.0->ipywidgets) (0.6.3)\n",
      "Requirement already satisfied: wcwidth in /Users/rayhu/miniconda3/envs/whisper-note/lib/python3.11/site-packages (from prompt_toolkit<3.1.0,>=3.0.41->ipython>=6.1.0->ipywidgets) (0.2.13)\n",
      "Requirement already satisfied: parso<0.9.0,>=0.8.4 in /Users/rayhu/miniconda3/envs/whisper-note/lib/python3.11/site-packages (from jedi>=0.16->ipython>=6.1.0->ipywidgets) (0.8.4)\n",
      "Requirement already satisfied: ptyprocess>=0.5 in /Users/rayhu/miniconda3/envs/whisper-note/lib/python3.11/site-packages (from pexpect>4.3->ipython>=6.1.0->ipywidgets) (0.7.0)\n",
      "Requirement already satisfied: charset_normalizer<4,>=2 in /Users/rayhu/miniconda3/envs/whisper-note/lib/python3.11/site-packages (from requests->huggingface-hub>=0.13->faster-whisper<0.6.0,>=0.5.1->faster-whisper-live) (3.4.2)\n",
      "Requirement already satisfied: idna<4,>=2.5 in /Users/rayhu/miniconda3/envs/whisper-note/lib/python3.11/site-packages (from requests->huggingface-hub>=0.13->faster-whisper<0.6.0,>=0.5.1->faster-whisper-live) (3.10)\n",
      "Requirement already satisfied: urllib3<3,>=1.21.1 in /Users/rayhu/miniconda3/envs/whisper-note/lib/python3.11/site-packages (from requests->huggingface-hub>=0.13->faster-whisper<0.6.0,>=0.5.1->faster-whisper-live) (2.4.0)\n",
      "Requirement already satisfied: certifi>=2017.4.17 in /Users/rayhu/miniconda3/envs/whisper-note/lib/python3.11/site-packages (from requests->huggingface-hub>=0.13->faster-whisper<0.6.0,>=0.5.1->faster-whisper-live) (2025.4.26)\n",
      "Requirement already satisfied: executing>=1.2.0 in /Users/rayhu/miniconda3/envs/whisper-note/lib/python3.11/site-packages (from stack_data->ipython>=6.1.0->ipywidgets) (2.2.0)\n",
      "Requirement already satisfied: asttokens>=2.1.0 in /Users/rayhu/miniconda3/envs/whisper-note/lib/python3.11/site-packages (from stack_data->ipython>=6.1.0->ipywidgets) (3.0.0)\n",
      "Requirement already satisfied: pure_eval in /Users/rayhu/miniconda3/envs/whisper-note/lib/python3.11/site-packages (from stack_data->ipython>=6.1.0->ipywidgets) (0.2.3)\n"
     ]
    }
   ],
   "source": [
    "#!pip install ipywidgets ipywebrtc faster-whisper-live"
   ]
  },
  {
   "cell_type": "code",
   "execution_count": 12,
   "id": "5f9370bc-b7aa-43c2-9714-898c09138619",
   "metadata": {},
   "outputs": [
    {
     "name": "stdout",
     "output_type": "stream",
     "text": [
      "Requirement already satisfied: ffmpeg-python in /Users/rayhu/miniconda3/envs/whisper-note/lib/python3.11/site-packages (0.2.0)\n",
      "Requirement already satisfied: future in /Users/rayhu/miniconda3/envs/whisper-note/lib/python3.11/site-packages (from ffmpeg-python) (1.0.0)\n"
     ]
    }
   ],
   "source": [
    "#!pip install ffmpeg-python  # 如果还没装 ffmpeg wrapper"
   ]
  },
  {
   "cell_type": "code",
   "execution_count": 1,
   "id": "684962c2-d454-4bc5-851c-86d2c7300b49",
   "metadata": {},
   "outputs": [
    {
     "name": "stdout",
     "output_type": "stream",
     "text": [
      "ffmpeg version 7.1.1 Copyright (c) 2000-2025 the FFmpeg developers\n",
      "  built with Apple clang version 16.0.0 (clang-1600.0.26.6)\n",
      "  configuration: --prefix=/opt/homebrew/Cellar/ffmpeg/7.1.1_2 --enable-shared --enable-pthreads --enable-version3 --cc=clang --host-cflags= --host-ldflags='-Wl,-ld_classic' --enable-ffplay --enable-gnutls --enable-gpl --enable-libaom --enable-libaribb24 --enable-libbluray --enable-libdav1d --enable-libharfbuzz --enable-libjxl --enable-libmp3lame --enable-libopus --enable-librav1e --enable-librist --enable-librubberband --enable-libsnappy --enable-libsrt --enable-libssh --enable-libsvtav1 --enable-libtesseract --enable-libtheora --enable-libvidstab --enable-libvmaf --enable-libvorbis --enable-libvpx --enable-libwebp --enable-libx264 --enable-libx265 --enable-libxml2 --enable-libxvid --enable-lzma --enable-libfontconfig --enable-libfreetype --enable-frei0r --enable-libass --enable-libopencore-amrnb --enable-libopencore-amrwb --enable-libopenjpeg --enable-libspeex --enable-libsoxr --enable-libzmq --enable-libzimg --disable-libjack --disable-indev=jack --enable-videotoolbox --enable-audiotoolbox --enable-neon\n",
      "  libavutil      59. 39.100 / 59. 39.100\n",
      "  libavcodec     61. 19.101 / 61. 19.101\n",
      "  libavformat    61.  7.100 / 61.  7.100\n",
      "  libavdevice    61.  3.100 / 61.  3.100\n",
      "  libavfilter    10.  4.100 / 10.  4.100\n",
      "  libswscale      8.  3.100 /  8.  3.100\n",
      "  libswresample   5.  3.100 /  5.  3.100\n",
      "  libpostproc    58.  3.100 / 58.  3.100\n",
      "2025-05-25 20:16:06.378 ffmpeg[53243:15933676] WARNING: Add NSCameraUseContinuityCameraDeviceType to your Info.plist to use AVCaptureDeviceTypeContinuityCamera.\n",
      "\u001b[0;35m[AVFoundation indev @ 0x12fe13f40] \u001b[0mAVFoundation video devices:\n",
      "\u001b[0;35m[AVFoundation indev @ 0x12fe13f40] \u001b[0m[0] FaceTime HD Camera\n",
      "\u001b[0;35m[AVFoundation indev @ 0x12fe13f40] \u001b[0m[1] Capture screen 0\n",
      "\u001b[0;35m[AVFoundation indev @ 0x12fe13f40] \u001b[0m[2] Capture screen 1\n",
      "\u001b[0;35m[AVFoundation indev @ 0x12fe13f40] \u001b[0mAVFoundation audio devices:\n",
      "\u001b[0;35m[AVFoundation indev @ 0x12fe13f40] \u001b[0m[0] WeMeet Audio Device\n",
      "\u001b[0;35m[AVFoundation indev @ 0x12fe13f40] \u001b[0m[1] MacBook Pro Microphone\n",
      "\u001b[0;35m[AVFoundation indev @ 0x12fe13f40] \u001b[0m[2] Microsoft Teams Audio\n",
      "\u001b[0;35m[AVFoundation indev @ 0x12fe13f40] \u001b[0m[3] ZoomAudioDevice\n",
      "\u001b[0;35m[in#0 @ 0x12fe13a20] \u001b[0m\u001b[1;31mError opening input: Input/output error\n",
      "\u001b[0m\u001b[1;31mError opening input file .\n",
      "\u001b[0m\u001b[4;31mError opening input files: Input/output error\n",
      "\u001b[0m"
     ]
    }
   ],
   "source": [
    "!ffmpeg -f avfoundation -list_devices true -i \"\"\n",
    "\n",
    "# 选择 MBP Microphone 的值，填到下一个格子里"
   ]
  },
  {
   "cell_type": "code",
   "execution_count": 13,
   "id": "34ef1445-0911-4ec8-b9dd-365445250574",
   "metadata": {},
   "outputs": [
    {
     "data": {
      "application/vnd.jupyter.widget-view+json": {
       "model_id": "266dbfd7b99f4b61866cc588b9f83370",
       "version_major": 2,
       "version_minor": 0
      },
      "text/plain": [
       "Output()"
      ]
     },
     "metadata": {},
     "output_type": "display_data"
    },
    {
     "name": "stderr",
     "output_type": "stream",
     "text": [
      "OMP: Warning #191: Forking a process while a parallel region is active is potentially unsafe.\n"
     ]
    }
   ],
   "source": [
    "import subprocess\n",
    "import asyncio, threading\n",
    "from faster_whisper_live import LiveWhisper\n",
    "\n",
    "from ipywidgets import Output\n",
    "out = Output()\n",
    "display(out)\n",
    "\n",
    "model = LiveWhisper(\n",
    "    \"small\",               # 模型大小：tiny/base/small/medium/large\n",
    "    device=\"cpu\",          # CPU 也能跑得很快，或切换到 cuda\n",
    "    compute_type=\"int8\"    # int8 量化加速\n",
    ")\n",
    "\n",
    "\n",
    "\n",
    "# 用 FFmpeg 从系统麦克风采集 16kHz、单声道、16-bit PCM\n",
    "#    macOS: avfoundation，Linux 可能用 alsa 或 pulse\n",
    "ffmpeg_cmd = [\n",
    "    \"ffmpeg\",\n",
    "    \"-f\", \"avfoundation\",\n",
    "    \"-i\", \":1\",          # 注意这里是 \":0\" 而不是 \"0\"\n",
    "    \"-ac\", \"1\",          # 单声道\n",
    "    \"-ar\", \"16000\",      # 16kHz\n",
    "    \"-f\", \"s16le\",       # 原始 PCM 输出\n",
    "    \"-\"\n",
    "]\n",
    "\n",
    "proc = subprocess.Popen(ffmpeg_cmd, stdout=subprocess.PIPE)\n",
    "\n",
    "def run_live():\n",
    "    with out:\n",
    "        for seg in model.transcribe(proc.stdout, decode_audio=False, vad_filter=True):\n",
    "            print(f\"[{seg.start:.2f}s → {seg.end:.2f}s] {seg.text}\")\n",
    "\n",
    "threading.Thread(target=run_live, daemon=True).start()"
   ]
  },
  {
   "cell_type": "code",
   "execution_count": null,
   "id": "e10f04b2-fcf8-46a2-b60c-3a332954e80c",
   "metadata": {},
   "outputs": [],
   "source": []
  },
  {
   "cell_type": "code",
   "execution_count": 1,
   "id": "07c15802-8ddf-42b0-9fea-5ba8023fc530",
   "metadata": {},
   "outputs": [
    {
     "data": {
      "application/vnd.jupyter.widget-view+json": {
       "model_id": "a38ce15ae4de42f5a76756ddabc833e9",
       "version_major": 2,
       "version_minor": 0
      },
      "text/plain": [
       "Output(layout=Layout(border_bottom='1px solid #ccc', border_left='1px solid #ccc', border_right='1px solid #cc…"
      ]
     },
     "metadata": {},
     "output_type": "display_data"
    }
   ],
   "source": [
    "import subprocess, threading\n",
    "from ipywidgets import Output\n",
    "from IPython.display import display\n",
    "from faster_whisper_live import LiveWhisper\n",
    "\n",
    "# —— 前端输出区 —— \n",
    "out = Output(layout={\"border\":\"1px solid #ccc\",\"height\":\"400px\",\"overflow\":\"auto\"})\n",
    "display(out)\n",
    "\n",
    "# —— 初始化模型 —— \n",
    "model = LiveWhisper(\"small\", device=\"cpu\", compute_type=\"int8\")\n",
    "\n",
    "# —— 启动 FFmpeg 采麦克风 —— \n",
    "ffmpeg_cmd = [\n",
    "    \"ffmpeg\",\n",
    "    \"-loglevel\", \"quiet\",\n",
    "    \"-f\", \"avfoundation\",\n",
    "    \"-i\", \":1\",       # ← 用你的音频设备号\n",
    "    \"-ac\", \"1\",\n",
    "    \"-ar\", \"16000\",\n",
    "    \"-f\", \"s16le\",\n",
    "    \"-\"\n",
    "]\n",
    "proc = subprocess.Popen(ffmpeg_cmd, stdout=subprocess.PIPE)\n",
    "\n",
    "# —— 后台线程：一边喂流，一边打印 —— \n",
    "def run_live():\n",
    "    with out:\n",
    "        for seg in model.transcribe(proc.stdout,\n",
    "                                    decode_audio=False,\n",
    "                                    vad_filter=True):\n",
    "            print(f\"[{seg.start:.2f}s → {seg.end:.2f}s] {seg.text}\")\n",
    "\n",
    "threading.Thread(target=run_live, daemon=True).start()"
   ]
  },
  {
   "cell_type": "code",
   "execution_count": null,
   "id": "5c38b97c-d13f-4c09-b0ec-fb14fd0a0fb1",
   "metadata": {},
   "outputs": [],
   "source": []
  }
 ],
 "metadata": {
  "kernelspec": {
   "display_name": "Python 3 (ipykernel)",
   "language": "python",
   "name": "python3"
  },
  "language_info": {
   "codemirror_mode": {
    "name": "ipython",
    "version": 3
   },
   "file_extension": ".py",
   "mimetype": "text/x-python",
   "name": "python",
   "nbconvert_exporter": "python",
   "pygments_lexer": "ipython3",
   "version": "3.11.11"
  }
 },
 "nbformat": 4,
 "nbformat_minor": 5
}
