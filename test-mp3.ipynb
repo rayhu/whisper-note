{
 "cells": [
  {
   "cell_type": "code",
   "execution_count": 1,
   "id": "c5979175-6d3a-46bc-b3fc-449b9dabf3fb",
   "metadata": {},
   "outputs": [
    {
     "name": "stderr",
     "output_type": "stream",
     "text": [
      "/Users/rayhu/miniconda3/envs/whisper-note/lib/python3.11/site-packages/tqdm/auto.py:21: TqdmWarning: IProgress not found. Please update jupyter and ipywidgets. See https://ipywidgets.readthedocs.io/en/stable/user_install.html\n",
      "  from .autonotebook import tqdm as notebook_tqdm\n"
     ]
    },
    {
     "ename": "ValueError",
     "evalue": "unsupported device mps",
     "output_type": "error",
     "traceback": [
      "\u001b[31m---------------------------------------------------------------------------\u001b[39m",
      "\u001b[31mValueError\u001b[39m                                Traceback (most recent call last)",
      "\u001b[36mCell\u001b[39m\u001b[36m \u001b[39m\u001b[32mIn[1]\u001b[39m\u001b[32m, line 6\u001b[39m\n\u001b[32m      1\u001b[39m \u001b[38;5;66;03m# 1. 安装（只需运行一次）\u001b[39;00m\n\u001b[32m      2\u001b[39m \u001b[38;5;66;03m# !pip install ctranslate2 faster-whisper\u001b[39;00m\n\u001b[32m      3\u001b[39m \n\u001b[32m      4\u001b[39m \u001b[38;5;66;03m# 2. 导入与模型加载\u001b[39;00m\n\u001b[32m      5\u001b[39m \u001b[38;5;28;01mfrom\u001b[39;00m\u001b[38;5;250m \u001b[39m\u001b[34;01mfaster_whisper\u001b[39;00m\u001b[38;5;250m \u001b[39m\u001b[38;5;28;01mimport\u001b[39;00m WhisperModel\n\u001b[32m----> \u001b[39m\u001b[32m6\u001b[39m model = \u001b[43mWhisperModel\u001b[49m\u001b[43m(\u001b[49m\u001b[33;43m\"\u001b[39;49m\u001b[33;43msmall\u001b[39;49m\u001b[33;43m\"\u001b[39;49m\u001b[43m,\u001b[49m\u001b[43m \u001b[49m\u001b[43mdevice\u001b[49m\u001b[43m=\u001b[49m\u001b[33;43m\"\u001b[39;49m\u001b[33;43mmps\u001b[39;49m\u001b[33;43m\"\u001b[39;49m\u001b[43m,\u001b[49m\u001b[43m \u001b[49m\u001b[43mcompute_type\u001b[49m\u001b[43m=\u001b[49m\u001b[33;43m\"\u001b[39;49m\u001b[33;43mfloat16\u001b[39;49m\u001b[33;43m\"\u001b[39;49m\u001b[43m)\u001b[49m\n\u001b[32m      8\u001b[39m \u001b[38;5;66;03m# 3. 读取音频并转写\u001b[39;00m\n\u001b[32m      9\u001b[39m audio_path = \u001b[33m\"\u001b[39m\u001b[33mexamples/sample-0.mp3\u001b[39m\u001b[33m\"\u001b[39m\n",
      "\u001b[36mFile \u001b[39m\u001b[32m~/miniconda3/envs/whisper-note/lib/python3.11/site-packages/faster_whisper/transcribe.py:647\u001b[39m, in \u001b[36mWhisperModel.__init__\u001b[39m\u001b[34m(self, model_size_or_path, device, device_index, compute_type, cpu_threads, num_workers, download_root, local_files_only, files, **model_kwargs)\u001b[39m\n\u001b[32m    640\u001b[39m \u001b[38;5;28;01melse\u001b[39;00m:\n\u001b[32m    641\u001b[39m     model_path = download_model(\n\u001b[32m    642\u001b[39m         model_size_or_path,\n\u001b[32m    643\u001b[39m         local_files_only=local_files_only,\n\u001b[32m    644\u001b[39m         cache_dir=download_root,\n\u001b[32m    645\u001b[39m     )\n\u001b[32m--> \u001b[39m\u001b[32m647\u001b[39m \u001b[38;5;28mself\u001b[39m.model = \u001b[43mctranslate2\u001b[49m\u001b[43m.\u001b[49m\u001b[43mmodels\u001b[49m\u001b[43m.\u001b[49m\u001b[43mWhisper\u001b[49m\u001b[43m(\u001b[49m\n\u001b[32m    648\u001b[39m \u001b[43m    \u001b[49m\u001b[43mmodel_path\u001b[49m\u001b[43m,\u001b[49m\n\u001b[32m    649\u001b[39m \u001b[43m    \u001b[49m\u001b[43mdevice\u001b[49m\u001b[43m=\u001b[49m\u001b[43mdevice\u001b[49m\u001b[43m,\u001b[49m\n\u001b[32m    650\u001b[39m \u001b[43m    \u001b[49m\u001b[43mdevice_index\u001b[49m\u001b[43m=\u001b[49m\u001b[43mdevice_index\u001b[49m\u001b[43m,\u001b[49m\n\u001b[32m    651\u001b[39m \u001b[43m    \u001b[49m\u001b[43mcompute_type\u001b[49m\u001b[43m=\u001b[49m\u001b[43mcompute_type\u001b[49m\u001b[43m,\u001b[49m\n\u001b[32m    652\u001b[39m \u001b[43m    \u001b[49m\u001b[43mintra_threads\u001b[49m\u001b[43m=\u001b[49m\u001b[43mcpu_threads\u001b[49m\u001b[43m,\u001b[49m\n\u001b[32m    653\u001b[39m \u001b[43m    \u001b[49m\u001b[43minter_threads\u001b[49m\u001b[43m=\u001b[49m\u001b[43mnum_workers\u001b[49m\u001b[43m,\u001b[49m\n\u001b[32m    654\u001b[39m \u001b[43m    \u001b[49m\u001b[43mfiles\u001b[49m\u001b[43m=\u001b[49m\u001b[43mfiles\u001b[49m\u001b[43m,\u001b[49m\n\u001b[32m    655\u001b[39m \u001b[43m    \u001b[49m\u001b[43m*\u001b[49m\u001b[43m*\u001b[49m\u001b[43mmodel_kwargs\u001b[49m\u001b[43m,\u001b[49m\n\u001b[32m    656\u001b[39m \u001b[43m\u001b[49m\u001b[43m)\u001b[49m\n\u001b[32m    658\u001b[39m tokenizer_file = os.path.join(model_path, \u001b[33m\"\u001b[39m\u001b[33mtokenizer.json\u001b[39m\u001b[33m\"\u001b[39m)\n\u001b[32m    659\u001b[39m \u001b[38;5;28;01mif\u001b[39;00m tokenizer_bytes:\n",
      "\u001b[31mValueError\u001b[39m: unsupported device mps"
     ]
    }
   ],
   "source": [
    "# 1. 安装（只需运行一次）\n",
    "# !pip install ctranslate2 faster-whisper\n",
    "\n",
    "# 2. 导入与模型加载\n",
    "from faster_whisper import WhisperModel\n",
    "model = WhisperModel(\"small\", device=\"mps\", compute_type=\"float16\")\n",
    "\n",
    "# 3. 读取音频并转写\n",
    "audio_path = \"examples/sample-0.mp3\"\n",
    "segments, info = model.transcribe(audio_path, beam_size=5)\n",
    "\n",
    "# 4. 查看结果\n",
    "print(f\"⏱️ 总时长: {info.duration:.2f}s，耗时: {info.total_s:.2f}s\")\n",
    "for seg in segments:\n",
    "    print(f\"[{seg.start:.2f}-{seg.end:.2f}] {seg.text}\")\n",
    "\n",
    "# 5. 参数微调示例\n",
    "# segments_alt, _ = model.transcribe(audio_path, beam_size=3, word_timestamps=True)"
   ]
  },
  {
   "cell_type": "code",
   "execution_count": null,
   "id": "d007d759-332a-40b0-9a22-fc5e1bc582f7",
   "metadata": {},
   "outputs": [],
   "source": []
  }
 ],
 "metadata": {
  "kernelspec": {
   "display_name": "whisper-note",
   "language": "python",
   "name": "whisper-note"
  },
  "language_info": {
   "codemirror_mode": {
    "name": "ipython",
    "version": 3
   },
   "file_extension": ".py",
   "mimetype": "text/x-python",
   "name": "python",
   "nbconvert_exporter": "python",
   "pygments_lexer": "ipython3",
   "version": "3.11.13"
  }
 },
 "nbformat": 4,
 "nbformat_minor": 5
}
