{
 "cells": [
  {
   "cell_type": "code",
   "execution_count": 1,
   "id": "66226d29",
   "metadata": {},
   "outputs": [
    {
     "name": "stdout",
     "output_type": "stream",
     "text": [
      "cuda available: True\n",
      "device count: 1\n",
      "current device: 0\n",
      "device name: NVIDIA GeForce RTX 3090\n"
     ]
    }
   ],
   "source": [
    "# recommended check before using .cuda()\n",
    "import torch\n",
    "print(\"cuda available:\", torch.cuda.is_available())\n",
    "if torch.cuda.is_available():\n",
    "    print(\"device count:\", torch.cuda.device_count())\n",
    "    print(\"current device:\", torch.cuda.current_device())\n",
    "    print(\"device name:\", torch.cuda.get_device_name(0))"
   ]
  },
  {
   "cell_type": "code",
   "execution_count": 2,
   "id": "4fd9e12d-ae55-47b1-b5d4-f534a3eb22bc",
   "metadata": {},
   "outputs": [
    {
     "data": {
      "application/vnd.jupyter.widget-view+json": {
       "model_id": "7c4313f927ce41f7aea8a0310bfc7040",
       "version_major": 2,
       "version_minor": 0
      },
      "text/plain": [
       "tokenizer_config.json:   0%|          | 0.00/190 [00:00<?, ?B/s]"
      ]
     },
     "metadata": {},
     "output_type": "display_data"
    },
    {
     "data": {
      "application/vnd.jupyter.widget-view+json": {
       "model_id": "ec46ab967dbd4195abf4172a71e2901c",
       "version_major": 2,
       "version_minor": 0
      },
      "text/plain": [
       "tokenization_mupt.py: 0.00B [00:00, ?B/s]"
      ]
     },
     "metadata": {},
     "output_type": "display_data"
    },
    {
     "name": "stderr",
     "output_type": "stream",
     "text": [
      "A new version of the following files was downloaded from https://huggingface.co/m-a-p/MuPT_v1_8192_1.3B:\n",
      "- tokenization_mupt.py\n",
      ". Make sure to double-check they do not contain any added malicious code. To avoid downloading new versions of the code file, you can pin a revision.\n"
     ]
    },
    {
     "data": {
      "application/vnd.jupyter.widget-view+json": {
       "model_id": "65f69f7186234a4b924f7fc5f2de7102",
       "version_major": 2,
       "version_minor": 0
      },
      "text/plain": [
       "vocab.json: 0.00B [00:00, ?B/s]"
      ]
     },
     "metadata": {},
     "output_type": "display_data"
    },
    {
     "data": {
      "application/vnd.jupyter.widget-view+json": {
       "model_id": "6dbf9a029a514552accbc4b04dc2334d",
       "version_major": 2,
       "version_minor": 0
      },
      "text/plain": [
       "merges.txt: 0.00B [00:00, ?B/s]"
      ]
     },
     "metadata": {},
     "output_type": "display_data"
    },
    {
     "data": {
      "application/vnd.jupyter.widget-view+json": {
       "model_id": "c3215f8246534bffbbcf77d29acd9d89",
       "version_major": 2,
       "version_minor": 0
      },
      "text/plain": [
       "config.json:   0%|          | 0.00/696 [00:00<?, ?B/s]"
      ]
     },
     "metadata": {},
     "output_type": "display_data"
    },
    {
     "data": {
      "application/vnd.jupyter.widget-view+json": {
       "model_id": "0ce67673e286405e9a5c4e051106c989",
       "version_major": 2,
       "version_minor": 0
      },
      "text/plain": [
       "pytorch_model.bin:   0%|          | 0.00/3.93G [00:00<?, ?B/s]"
      ]
     },
     "metadata": {},
     "output_type": "display_data"
    },
    {
     "data": {
      "application/vnd.jupyter.widget-view+json": {
       "model_id": "6526de73b21d4c9aaacf7af22e7fcfd5",
       "version_major": 2,
       "version_minor": 0
      },
      "text/plain": [
       "generation_config.json:   0%|          | 0.00/132 [00:00<?, ?B/s]"
      ]
     },
     "metadata": {},
     "output_type": "display_data"
    },
    {
     "name": "stdout",
     "output_type": "stream",
     "text": [
      "X:1<n>L:1/8<n>Q:1/8=200<n>M:4/4<n>K:Gmin<n>|:\"Gm\" BGdB\"F\" Fcec | <|> <|> \"Bb\" dfga\"F\" gfdc | <|> <|> \"Bb\" BdcB\"F\" AFGA | <|> <|> \"Gm\" BGdG\"F\" FccB | <|> <|> \"Gm\" BGdB\"F\" Fcec | <|> <|> <n>\"Bb\" dfga\"F\" gfdc | <|> <|> \"Bb\" BdcB\"F\" AFGA | <|> <|> \"Bb\" BGAF\"Bb\" DG G2 :: <|> <|> \"Bb\" BGBc dGBd | <|> <|> \"F\" gdga\"Gm\" bgdg | <|> <\n"
     ]
    }
   ],
   "source": [
    "from transformers import AutoModelForCausalLM, AutoModel, AutoTokenizer\n",
    "\n",
    "tokenizer = AutoTokenizer.from_pretrained(\"m-a-p/MuPT_v1_8192_1.3B\",\n",
    "                                            trust_remote_code=True,\n",
    "                                            use_fast=False)\n",
    "model = AutoModelForCausalLM.from_pretrained(\"m-a-p/MuPT_v1_8192_1.3B\").eval().half().cuda()\n",
    "\n",
    "prefix = \"X:1<n>L:1/8<n>Q:1/8=200<n>M:4/4<n>K:Gmin<n>|:\\\"Gm\\\" BGdB\" # replace \"\\n\" with \"<n>\" for all the MuPT-8192 models, but not for MuPT-4096 models\n",
    "inputs = tokenizer(prefix, return_tensors=\"pt\").to(model.device)\n",
    "\n",
    "max_length = 256\n",
    "outputs = model.generate(\n",
    "    inputs.input_ids,\n",
    "    max_length=max_length\n",
    ")\n",
    "outputs = tokenizer.decode(outputs[0])\n",
    "print(outputs)\n"
   ]
  },
  {
   "cell_type": "code",
   "execution_count": null,
   "id": "a1042b86-4554-4973-bd66-397d1a649fe7",
   "metadata": {},
   "outputs": [],
   "source": []
  },
  {
   "cell_type": "code",
   "execution_count": null,
   "id": "613967a3-b958-4b4b-a537-74a3ae9c9ddf",
   "metadata": {},
   "outputs": [],
   "source": []
  }
 ],
 "metadata": {
  "kernelspec": {
   "display_name": "Python 3 (ipykernel)",
   "language": "python",
   "name": "python3"
  },
  "language_info": {
   "codemirror_mode": {
    "name": "ipython",
    "version": 3
   },
   "file_extension": ".py",
   "mimetype": "text/x-python",
   "name": "python",
   "nbconvert_exporter": "python",
   "pygments_lexer": "ipython3",
   "version": "3.11.13"
  }
 },
 "nbformat": 4,
 "nbformat_minor": 5
}
